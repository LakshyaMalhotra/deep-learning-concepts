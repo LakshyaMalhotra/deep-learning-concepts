{
  "nbformat": 4,
  "nbformat_minor": 0,
  "metadata": {
    "colab": {
      "name": "character_level_rnn.ipynb",
      "provenance": [],
      "collapsed_sections": []
    },
    "kernelspec": {
      "name": "python3",
      "display_name": "Python 3"
    },
    "accelerator": "GPU"
  },
  "cells": [
    {
      "cell_type": "markdown",
      "metadata": {
        "id": "S9N0fHc5k9w-",
        "colab_type": "text"
      },
      "source": [
        "# Character-Level LSTM in PyTorch\n",
        "\n",
        "In this notebook, we'll construct a character-level LSTM with PyTorch. The network will train character by character on some text, then generate new text character by character. As an example, we will train on Anna Karenina. **This model will be able to generate new text based on the text from the book!**\n",
        "\n",
        "This network is based off of Andrej Karpathy's [post on RNNs](http://karpathy.github.io/2015/05/21/rnn-effectiveness/) and [implementation in Torch](https://github.com/karpathy/char-rnn). Below is the general architecture of the character-wise RNN."
      ]
    },
    {
      "cell_type": "markdown",
      "metadata": {
        "id": "8BkeGQKGlIcj",
        "colab_type": "text"
      },
      "source": [
        "First let's load in our required resources for data loading and model creation."
      ]
    },
    {
      "cell_type": "code",
      "metadata": {
        "id": "Zw6XBpoZkSoQ",
        "colab_type": "code",
        "colab": {}
      },
      "source": [
        "import numpy as np\n",
        "import torch\n",
        "from torch import nn\n",
        "import torch.nn.functional as F"
      ],
      "execution_count": 0,
      "outputs": []
    },
    {
      "cell_type": "markdown",
      "metadata": {
        "id": "xmjAOxA5kzQn",
        "colab_type": "text"
      },
      "source": [
        "---\n",
        "## Load in Data\n",
        "\n",
        "Then, we'll load the Anna Karenina text file and convert it into integers for our network to use."
      ]
    },
    {
      "cell_type": "code",
      "metadata": {
        "id": "GZbgzimElUfu",
        "colab_type": "code",
        "colab": {}
      },
      "source": [
        "# open text file and read in the data as `text`\n",
        "with open(\"anna.txt\", 'r') as f:\n",
        "    text = f.read()"
      ],
      "execution_count": 0,
      "outputs": []
    },
    {
      "cell_type": "code",
      "metadata": {
        "id": "eIgMGlRdlhWL",
        "colab_type": "code",
        "outputId": "6f4af7ce-9792-4ddc-ba3f-e90061087f07",
        "colab": {
          "base_uri": "https://localhost:8080/",
          "height": 35
        }
      },
      "source": [
        "text[:100]"
      ],
      "execution_count": 3,
      "outputs": [
        {
          "output_type": "execute_result",
          "data": {
            "text/plain": [
              "'Chapter 1\\n\\n\\nHappy families are all alike; every unhappy family is unhappy in its own\\nway.\\n\\nEverythin'"
            ]
          },
          "metadata": {
            "tags": []
          },
          "execution_count": 3
        }
      ]
    },
    {
      "cell_type": "markdown",
      "metadata": {
        "id": "GxI61vstllAr",
        "colab_type": "text"
      },
      "source": [
        "### Tokenization\n",
        "\n",
        "In the cells, below, we're creating a couple **dictionaries** to convert the characters to and from integers. Encoding the characters as integers makes it easier to use as input in the network."
      ]
    },
    {
      "cell_type": "code",
      "metadata": {
        "id": "deP6oHiVl2v0",
        "colab_type": "code",
        "outputId": "497a0091-5061-4292-a264-c408dc6a29c2",
        "colab": {
          "base_uri": "https://localhost:8080/",
          "height": 35
        }
      },
      "source": [
        "# encode the text and map each character to an integer and vice versa\n",
        "# we create two dictionaries\n",
        "# 1. int2char, which maps integers to characters\n",
        "# 2. char2int, which maps characters to unique integers\n",
        "\n",
        "chars = tuple(set(text))\n",
        "int2char = dict(enumerate(chars))\n",
        "char2int = {ch: ii for ii, ch in int2char.items()}\n",
        "\n",
        "# encode the text\n",
        "encoded = np.array([char2int[ch] for ch in text])\n",
        "len(encoded)"
      ],
      "execution_count": 4,
      "outputs": [
        {
          "output_type": "execute_result",
          "data": {
            "text/plain": [
              "1985223"
            ]
          },
          "metadata": {
            "tags": []
          },
          "execution_count": 4
        }
      ]
    },
    {
      "cell_type": "markdown",
      "metadata": {
        "id": "M7-CpV2-nYmv",
        "colab_type": "text"
      },
      "source": [
        "And we can see those same characters from above, encoded as integers."
      ]
    },
    {
      "cell_type": "code",
      "metadata": {
        "id": "ZsoT9ESRnT_J",
        "colab_type": "code",
        "outputId": "1c77b832-5ce5-40a9-bbd2-0bd825ba86ae",
        "colab": {
          "base_uri": "https://localhost:8080/",
          "height": 143
        }
      },
      "source": [
        "print(chars[:5])\n",
        "encoded[:100]"
      ],
      "execution_count": 5,
      "outputs": [
        {
          "output_type": "stream",
          "text": [
            "('M', '3', 'C', 'k', 'g')\n"
          ],
          "name": "stdout"
        },
        {
          "output_type": "execute_result",
          "data": {
            "text/plain": [
              "array([ 2, 47, 21, 22, 12, 19, 37, 46, 78, 41, 41, 41, 13, 21, 22, 22, 63,\n",
              "       46, 59, 21, 38, 11, 23, 11, 19, 74, 46, 21, 37, 19, 46, 21, 23, 23,\n",
              "       46, 21, 23, 11,  3, 19, 42, 46, 19, 18, 19, 37, 63, 46, 20, 43, 47,\n",
              "       21, 22, 22, 63, 46, 59, 21, 38, 11, 23, 63, 46, 11, 74, 46, 20, 43,\n",
              "       47, 21, 22, 22, 63, 46, 11, 43, 46, 11, 12, 74, 46, 30, 77, 43, 41,\n",
              "       77, 21, 63, 53, 41, 41, 39, 18, 19, 37, 63, 12, 47, 11, 43])"
            ]
          },
          "metadata": {
            "tags": []
          },
          "execution_count": 5
        }
      ]
    },
    {
      "cell_type": "markdown",
      "metadata": {
        "id": "8reJZ92nnar4",
        "colab_type": "text"
      },
      "source": [
        "---\n",
        "## Pre-processing the data\n",
        "\n",
        "As you can see in our char-RNN image above, our LSTM expects an input that is **one-hot encoded** meaning that each character is converted into an integer (via our created dictionary) and *then* converted into a column vector where only it's corresponding integer index will have the value of 1 and the rest of the vector will be filled with 0's. Since we're one-hot encoding the data, let's make a function to do that!\n"
      ]
    },
    {
      "cell_type": "code",
      "metadata": {
        "id": "a1iqvDhUngcX",
        "colab_type": "code",
        "colab": {}
      },
      "source": [
        "def one_hot_encode(arr, n_labels):\n",
        "    # initialize the encoded array\n",
        "    one_hot = np.zeros((np.multiply(*arr.shape), n_labels), dtype=np.float32)\n",
        "\n",
        "    # fill the appropriate elements with one\n",
        "    one_hot[np.arange(one_hot.shape[0]), arr.flatten()] = 1\n",
        "\n",
        "    # finally reshape it to get back to the original array\n",
        "    one_hot = one_hot.reshape((*arr.shape, n_labels))\n",
        "\n",
        "    return one_hot"
      ],
      "execution_count": 0,
      "outputs": []
    },
    {
      "cell_type": "code",
      "metadata": {
        "id": "gdmBgaFzoa88",
        "colab_type": "code",
        "outputId": "8f80f65b-c0be-4d4c-d24a-6d3d57a73d8f",
        "colab": {
          "base_uri": "https://localhost:8080/",
          "height": 89
        }
      },
      "source": [
        "# check that the function works as expected\n",
        "test_seq = np.array([[3, 5, 1]])\n",
        "one_hot = one_hot_encode(test_seq, 8)\n",
        "print(one_hot.shape)\n",
        "print(one_hot)"
      ],
      "execution_count": 7,
      "outputs": [
        {
          "output_type": "stream",
          "text": [
            "(1, 3, 8)\n",
            "[[[0. 0. 0. 1. 0. 0. 0. 0.]\n",
            "  [0. 0. 0. 0. 0. 1. 0. 0.]\n",
            "  [0. 1. 0. 0. 0. 0. 0. 0.]]]\n"
          ],
          "name": "stdout"
        }
      ]
    },
    {
      "cell_type": "markdown",
      "metadata": {
        "id": "vmF2VZjLodNI",
        "colab_type": "text"
      },
      "source": [
        "---\n",
        "## Making training mini-batches\n",
        "\n",
        "\n",
        "To train on this data, we also want to create mini-batches for training. Remember that we want our batches to be multiple sequences of some desired number of sequence steps. Considering a simple example, our batches would look like this:\n",
        "\n",
        "In this example, we'll take the encoded characters (passed in as the `arr` parameter) and split them into multiple sequences, given by `batch_size`. Each of our sequences will be `seq_length` long.\n",
        "\n",
        "### Creating Batches\n",
        "\n",
        "**1. The first thing we need to do is discard some of the text so we only have completely full mini-batches.**\n",
        "\n",
        "Each batch contains $N \\times M$ characters, where $N$ is the batch size (the number of sequences in a batch) and $M$ is the seq_length or number of time steps in a sequence. Then, to get the total number of batches, $K$, that we can make from the array `arr`, you divide the length of `arr` by the number of characters per batch. Once you know the number of batches, you can get the total number of characters to keep from `arr`, $N * M * K$.\n",
        "\n",
        "**2. After that, we need to split `arr` into $N$ batches.** \n",
        "\n",
        "You can do this using `arr.reshape(size)` where `size` is a tuple containing the dimensions sizes of the reshaped array. We know we want $N$ sequences in a batch, so let's make that the size of the first dimension. For the second dimension, you can use `-1` as a placeholder in the size, it'll fill up the array with the appropriate data for you. After this, you should have an array that is $N \\times (M * K)$.\n",
        "\n",
        "**3. Now that we have this array, we can iterate through it to get our mini-batches.**\n",
        "\n",
        "The idea is each batch is a $N \\times M$ window on the $N \\times (M * K)$ array. For each subsequent batch, the window moves over by `seq_length`. We also want to create both the input and target arrays. Remember that the targets are just the inputs shifted over by one character. The way I like to do this window is use `range` to take steps of size `n_steps` from $0$ to `arr.shape[1]`, the total number of tokens in each sequence. That way, the integers you get from `range` always point to the start of a batch, and each window is `seq_length` wide.\n",
        "\n",
        "> **TODO:** Write the code for creating batches in the function below. The exercises in this notebook _will not be easy_. I've provided a notebook with solutions alongside this notebook. If you get stuck, checkout the solutions. The most important thing is that you don't copy and paste the code into here, **type out the solution code yourself.**"
      ]
    },
    {
      "cell_type": "code",
      "metadata": {
        "id": "qcDABFl-ozK6",
        "colab_type": "code",
        "colab": {}
      },
      "source": [
        "def get_batches(arr, batch_size, seq_length):\n",
        "    \"\"\"\n",
        "    Create a generator that returns batches of size \n",
        "    `batch_size x seq_length` from `arr`.\n",
        "\n",
        "    Arguments:\n",
        "    ==========\n",
        "    :param arr: Array we want to make batches from\n",
        "    :param batch_size: Batch size, number of sequences per batch\n",
        "    :param seq_length: Number of encoded chars in each sequence\n",
        "    \"\"\"\n",
        "\n",
        "    ### TODO: Get the number of batches we make\n",
        "    n_batches = len(arr) // (batch_size * seq_length)\n",
        "\n",
        "    ### TODO: Keep only enough characters to make full batches\n",
        "    arr = arr[:(n_batches*batch_size*seq_length)]\n",
        "\n",
        "    ### TODO: Reshape into batch_size rows\n",
        "    arr = arr.reshape(batch_size, -1)\n",
        "\n",
        "    ### TODO:iterate over the batches using a sliding window of size seq_length\n",
        "    for n in range(0, arr.shape[1], seq_length):\n",
        "        # the features\n",
        "        x = arr[:, n:n+seq_length]\n",
        "        # the targets, shifted by one\n",
        "        y = np.zeros_like(x)\n",
        "        try:        # takes care of the case when n+seq_length is the last element\n",
        "            y[:, :-1], y[:, -1] = x[:, 1:], arr[:, n+seq_length]\n",
        "        except IndexError:\n",
        "            y[:, :-1], y[:, -1] = x[:, 1:], arr[:, 0]\n",
        "        yield x, y"
      ],
      "execution_count": 0,
      "outputs": []
    },
    {
      "cell_type": "markdown",
      "metadata": {
        "id": "yHkzTRnfq4HX",
        "colab_type": "text"
      },
      "source": [
        "---\n",
        "### Test Your Implementation\n",
        "\n",
        "Now I'll make some data sets and we can check out what's going on as we batch data. Here, as an example, I'm going to use a batch size of 8 and 50 sequence steps."
      ]
    },
    {
      "cell_type": "code",
      "metadata": {
        "id": "iXxZ7K4QsKFE",
        "colab_type": "code",
        "colab": {}
      },
      "source": [
        "batches = get_batches(encoded, 8, 50)\n",
        "x,y = next(batches)"
      ],
      "execution_count": 0,
      "outputs": []
    },
    {
      "cell_type": "code",
      "metadata": {
        "id": "MfKvgDqPsWcO",
        "colab_type": "code",
        "outputId": "772235fb-cbe8-46f1-9105-d778fc6f3380",
        "colab": {
          "base_uri": "https://localhost:8080/",
          "height": 341
        }
      },
      "source": [
        "print('x\\n', x[:10, :10])\n",
        "print('y\\n', y[:10, :10])"
      ],
      "execution_count": 25,
      "outputs": [
        {
          "output_type": "stream",
          "text": [
            "x\n",
            " [[ 2 47 21 22 12 19 37 46 78 41]\n",
            " [74 30 43 46 12 47 21 12 46 21]\n",
            " [19 43 25 46 30 37 46 21 46 59]\n",
            " [74 46 12 47 19 46 14 47 11 19]\n",
            " [46 74 21 77 46 47 19 37 46 12]\n",
            " [14 20 74 74 11 30 43 46 21 43]\n",
            " [46  5 43 43 21 46 47 21 25 46]\n",
            " [24 27 23 30 43 74  3 63 53 46]]\n",
            "y\n",
            " [[47 21 22 12 19 37 46 78 41 41]\n",
            " [30 43 46 12 47 21 12 46 21 12]\n",
            " [43 25 46 30 37 46 21 46 59 30]\n",
            " [46 12 47 19 46 14 47 11 19 59]\n",
            " [74 21 77 46 47 19 37 46 12 19]\n",
            " [20 74 74 11 30 43 46 21 43 25]\n",
            " [ 5 43 43 21 46 47 21 25 46 74]\n",
            " [27 23 30 43 74  3 63 53 46 65]]\n"
          ],
          "name": "stdout"
        }
      ]
    },
    {
      "cell_type": "markdown",
      "metadata": {
        "id": "vPxwRebPscD4",
        "colab_type": "text"
      },
      "source": [
        "---\n",
        "## Defining the network with PyTorch\n",
        "\n",
        "Below is where we'll define the network.\n",
        "\n",
        "Next, we'll use PyTorch to define the architecture of the network. We start by defining the layers and operations we want. Then, define a method for the forward pass. We've also been given a method for predicting characters."
      ]
    },
    {
      "cell_type": "markdown",
      "metadata": {
        "id": "Vu8buQvjtHDM",
        "colab_type": "text"
      },
      "source": [
        "### Model Structure\n",
        "\n",
        "In `__init__` the suggested structure is as follows:\n",
        "* Create and store the necessary dictionaries (this has been done for you)\n",
        "* Define an LSTM layer that takes as params: an input size (the number of characters), a hidden layer size `n_hidden`, a number of layers `n_layers`, a dropout probability `drop_prob`, and a batch_first boolean (True, since we are batching)\n",
        "* Define a dropout layer with `dropout_prob`\n",
        "* Define a fully-connected layer with params: input size `n_hidden` and output size (the number of characters)\n",
        "* Finally, initialize the weights (again, this has been given)\n",
        "\n",
        "Note that some parameters have been named and given in the `__init__` function, and we use them and store them by doing something like `self.drop_prob = drop_prob`."
      ]
    },
    {
      "cell_type": "markdown",
      "metadata": {
        "id": "ORExO1_HtOet",
        "colab_type": "text"
      },
      "source": [
        "---\n",
        "### LSTM Inputs/Outputs\n",
        "\n",
        "You can create a basic [LSTM layer](https://pytorch.org/docs/stable/nn.html#lstm) as follows\n",
        "\n",
        "```python\n",
        "self.lstm = nn.LSTM(input_size, n_hidden, n_layers, \n",
        "                            dropout=drop_prob, batch_first=True)\n",
        "```\n",
        "\n",
        "where `input_size` is the number of characters this cell expects to see as sequential input, and `n_hidden` is the number of units in the hidden layers in the cell. And we can add dropout by adding a dropout parameter with a specified probability; this will automatically add dropout to the inputs or outputs. Finally, in the `forward` function, we can stack up the LSTM cells into layers using `.view`. With this, we pass in a list of cells and it will send the output of one cell into the next cell.\n",
        "\n",
        "We also need to create an initial hidden state of all zeros. This is done like so\n",
        "\n",
        "```python\n",
        "self.init_hidden()\n",
        "```"
      ]
    },
    {
      "cell_type": "code",
      "metadata": {
        "id": "4oE2R8XntbSI",
        "colab_type": "code",
        "outputId": "704a88d6-aa18-4394-f127-9fa0a77fae32",
        "colab": {
          "base_uri": "https://localhost:8080/",
          "height": 35
        }
      },
      "source": [
        "# check if GPU is available\n",
        "train_on_gpu = torch.cuda.is_available()\n",
        "if(train_on_gpu):\n",
        "    print('Training on GPU!')\n",
        "else: \n",
        "    print('No GPU available, training on CPU; consider making n_epochs very small.')"
      ],
      "execution_count": 26,
      "outputs": [
        {
          "output_type": "stream",
          "text": [
            "Training on GPU!\n"
          ],
          "name": "stdout"
        }
      ]
    },
    {
      "cell_type": "code",
      "metadata": {
        "id": "TsjCiAVNO1vR",
        "colab_type": "code",
        "colab": {
          "base_uri": "https://localhost:8080/",
          "height": 35
        },
        "outputId": "686bacf2-460d-45d4-f646-8a8dc1d95f82"
      },
      "source": [
        "torch.cuda.get_device_name()"
      ],
      "execution_count": 27,
      "outputs": [
        {
          "output_type": "execute_result",
          "data": {
            "text/plain": [
              "'Tesla P100-PCIE-16GB'"
            ]
          },
          "metadata": {
            "tags": []
          },
          "execution_count": 27
        }
      ]
    },
    {
      "cell_type": "code",
      "metadata": {
        "id": "8H1P2RsYtk8h",
        "colab_type": "code",
        "colab": {}
      },
      "source": [
        "class CharRNN(nn.Module):\n",
        "    \n",
        "    def __init__(self, tokens, n_hidden=256, n_layers=2,\n",
        "                               drop_prob=0.5, lr=0.001):\n",
        "        super().__init__()\n",
        "        self.n_hidden = n_hidden\n",
        "        self.n_layers = n_layers\n",
        "        self.drop_prob = drop_prob\n",
        "        self.lr = lr\n",
        "        \n",
        "        # creating character dictionaries\n",
        "        self.chars = tokens\n",
        "        self.int2char = dict(enumerate(self.chars))\n",
        "        self.char2int = {ch: ii for ii, ch in self.int2char.items()}\n",
        "        \n",
        "        ## TODO: define the layers of the model\n",
        "        self.lstm = nn.LSTM(len(tokens), n_hidden, n_layers, dropout=drop_prob, \n",
        "                            batch_first=True)\n",
        "        self.dropout = nn.Dropout(drop_prob)\n",
        "        self.fc = nn.Linear(n_hidden, len(tokens))\n",
        "\n",
        "    def forward(self, x, hidden):\n",
        "        ''' Forward pass through the network. \n",
        "            These inputs are x, and the hidden/cell state `hidden`. '''\n",
        "                \n",
        "        ## TODO: Get the outputs and the new hidden state from the lstm\n",
        "        out, hidden = self.lstm(x, hidden)\n",
        "        out = self.dropout(out)\n",
        "        out = out.contiguous().view(-1, n_hidden)\n",
        "#         print(out.shape)\n",
        "        out = self.fc(out)\n",
        "        # return the final output and the hidden state\n",
        "        return out, hidden\n",
        "    \n",
        "    \n",
        "    def init_hidden(self, batch_size):\n",
        "    #     ''' Initializes hidden state '''\n",
        "    #     # Create two new tensors with sizes n_layers x batch_size x n_hidden,\n",
        "    #     # initialized to zero, for hidden state and cell state of LSTM\n",
        "        weight = next(self.parameters()).data\n",
        "        dummy = weight.new_zeros(self.n_layers, batch_size, self.n_hidden)\n",
        "        if (train_on_gpu):\n",
        "            hidden = (weight.new_zeros(self.n_layers, batch_size, self.n_hidden).cuda(),\n",
        "                  weight.new_zeros(self.n_layers, batch_size, self.n_hidden).cuda())\n",
        "        else:\n",
        "            hidden = (weight.new_zeros(self.n_layers, batch_size, self.n_hidden),\n",
        "                      weight.new_zeros(self.n_layers, batch_size, self.n_hidden))\n",
        "        # if train_on_gpu:\n",
        "        #     hidden = (nn.init.kaiming_normal_(dummy).cuda(),\n",
        "        #               nn.init.kaiming_normal_(dummy).cuda())\n",
        "        # else:\n",
        "        #     hidden = (nn.init.kaiming_normal_(dummy),\n",
        "        #               nn.init.kaiming_normal_(dummy))\n",
        "        # print(np.shape(hidden[0]))\n",
        "        return hidden"
      ],
      "execution_count": 0,
      "outputs": []
    },
    {
      "cell_type": "code",
      "metadata": {
        "id": "ZsmvostNySUn",
        "colab_type": "code",
        "colab": {}
      },
      "source": [
        "def train(net, data, epochs=10, batch_size=10, seq_length=50, lr=0.001, clip=5, val_frac=0.1, print_every=10):\n",
        "    ''' Training a network \n",
        "    \n",
        "        Arguments\n",
        "        ---------\n",
        "        \n",
        "        net: CharRNN network\n",
        "        data: text data to train the network\n",
        "        epochs: Number of epochs to train\n",
        "        batch_size: Number of mini-sequences per mini-batch, aka batch size\n",
        "        seq_length: Number of character steps per mini-batch\n",
        "        lr: learning rate\n",
        "        clip: gradient clipping\n",
        "        val_frac: Fraction of data to hold out for validation\n",
        "        print_every: Number of steps for printing training and validation loss\n",
        "    \n",
        "    '''\n",
        "    net.train()\n",
        "    \n",
        "    opt = torch.optim.Adam(net.parameters(), lr=lr)\n",
        "    criterion = nn.CrossEntropyLoss()\n",
        "    \n",
        "    # create training and validation data\n",
        "    val_idx = int(len(data)*(1-val_frac))\n",
        "    data, val_data = data[:val_idx], data[val_idx:]\n",
        "    \n",
        "    if(train_on_gpu):\n",
        "        net.cuda()\n",
        "    \n",
        "    counter = 0\n",
        "    n_chars = len(net.chars)\n",
        "    for e in range(epochs):\n",
        "        # initialize hidden state\n",
        "        h = net.init_hidden(batch_size)\n",
        "        \n",
        "        for x, y in get_batches(data, batch_size, seq_length):\n",
        "            counter += 1\n",
        "            \n",
        "            # One-hot encode our data and make them Torch tensors\n",
        "            x = one_hot_encode(x, n_chars)\n",
        "            inputs, targets = torch.from_numpy(x), torch.from_numpy(y)\n",
        "            # print(inputs.shape)\n",
        "            if(train_on_gpu):\n",
        "                inputs, targets = inputs.cuda(), targets.cuda()\n",
        "\n",
        "            # Creating new variables for the hidden state, otherwise\n",
        "            # we'd backprop through the entire training history\n",
        "            h = tuple([each.data for each in h])\n",
        "\n",
        "            # zero accumulated gradients\n",
        "            net.zero_grad()\n",
        "            \n",
        "            # get the output from the model\n",
        "            output, h = net(inputs, h)\n",
        "            \n",
        "            # calculate the loss and perform backprop\n",
        "            loss = criterion(output, targets.contiguous().view(batch_size*seq_length).long())\n",
        "            loss.backward()\n",
        "            # `clip_grad_norm` helps prevent the exploding gradient problem in RNNs / LSTMs.\n",
        "            nn.utils.clip_grad_norm_(net.parameters(), clip)\n",
        "            opt.step()\n",
        "            \n",
        "            # loss stats\n",
        "            if counter % print_every == 0:\n",
        "                # Get validation loss\n",
        "                val_h = net.init_hidden(batch_size)\n",
        "                val_losses = []\n",
        "                net.eval()\n",
        "                for x, y in get_batches(val_data, batch_size, seq_length):\n",
        "                    # One-hot encode our data and make them Torch tensors\n",
        "                    x = one_hot_encode(x, n_chars)\n",
        "                    x, y = torch.from_numpy(x), torch.from_numpy(y)\n",
        "                    \n",
        "                    # Creating new variables for the hidden state, otherwise\n",
        "                    # we'd backprop through the entire training history\n",
        "                    val_h = tuple([each.data for each in val_h])\n",
        "                    \n",
        "                    inputs, targets = x, y\n",
        "                    if(train_on_gpu):\n",
        "                        inputs, targets = inputs.cuda(), targets.cuda()\n",
        "\n",
        "                    output, val_h = net(inputs, val_h)\n",
        "                    val_loss = criterion(output, targets.contiguous().view(batch_size*seq_length).long())\n",
        "                \n",
        "                    val_losses.append(val_loss.item())\n",
        "                \n",
        "                net.train() # reset to train mode after iterationg through validation data\n",
        "                \n",
        "                print(\"Epoch: {}/{}...\".format(e+1, epochs),\n",
        "                      \"Step: {}...\".format(counter),\n",
        "                      \"Loss: {:.4f}...\".format(loss.item()),\n",
        "                      \"Val Loss: {:.4f}\".format(np.mean(val_losses)))"
      ],
      "execution_count": 0,
      "outputs": []
    },
    {
      "cell_type": "code",
      "metadata": {
        "id": "jiESlezOyYtP",
        "colab_type": "code",
        "outputId": "f9bb23ff-52e4-4d1b-cfa4-a078e1d74e88",
        "colab": {
          "base_uri": "https://localhost:8080/",
          "height": 107
        }
      },
      "source": [
        "## TODO: set you model hyperparameters\n",
        "# define and print the net\n",
        "n_hidden=256\n",
        "n_layers=2\n",
        "\n",
        "rnn = CharRNN(chars, n_hidden, n_layers)\n",
        "print(rnn)"
      ],
      "execution_count": 34,
      "outputs": [
        {
          "output_type": "stream",
          "text": [
            "CharRNN(\n",
            "  (lstm): LSTM(83, 256, num_layers=2, batch_first=True, dropout=0.5)\n",
            "  (dropout): Dropout(p=0.5, inplace=False)\n",
            "  (fc): Linear(in_features=256, out_features=83, bias=True)\n",
            ")\n"
          ],
          "name": "stdout"
        }
      ]
    },
    {
      "cell_type": "code",
      "metadata": {
        "id": "qnmyAiEAyb2-",
        "colab_type": "code",
        "outputId": "b1d9e206-6f6b-4640-91ed-05ffc61c7a90",
        "colab": {
          "base_uri": "https://localhost:8080/",
          "height": 1000
        }
      },
      "source": [
        "batch_size = 128\n",
        "seq_length = 100\n",
        "n_epochs =  50     # start small if you are just testing initial behavior\n",
        "\n",
        "# train the model\n",
        "train(rnn, encoded, epochs=n_epochs, batch_size=batch_size, seq_length=seq_length, \n",
        "      lr=0.001, print_every=50)"
      ],
      "execution_count": 35,
      "outputs": [
        {
          "output_type": "stream",
          "text": [
            "Epoch: 1/50... Step: 50... Loss: 3.1654... Val Loss: 3.1199\n",
            "Epoch: 1/50... Step: 100... Loss: 3.1301... Val Loss: 3.1125\n",
            "Epoch: 2/50... Step: 150... Loss: 3.0535... Val Loss: 3.0228\n",
            "Epoch: 2/50... Step: 200... Loss: 2.8151... Val Loss: 2.7421\n",
            "Epoch: 2/50... Step: 250... Loss: 2.5675... Val Loss: 2.5269\n",
            "Epoch: 3/50... Step: 300... Loss: 2.5006... Val Loss: 2.4263\n",
            "Epoch: 3/50... Step: 350... Loss: 2.4429... Val Loss: 2.3647\n",
            "Epoch: 3/50... Step: 400... Loss: 2.3570... Val Loss: 2.3123\n",
            "Epoch: 4/50... Step: 450... Loss: 2.2904... Val Loss: 2.2663\n",
            "Epoch: 4/50... Step: 500... Loss: 2.2914... Val Loss: 2.2219\n",
            "Epoch: 4/50... Step: 550... Loss: 2.2434... Val Loss: 2.1857\n",
            "Epoch: 5/50... Step: 600... Loss: 2.1600... Val Loss: 2.1404\n",
            "Epoch: 5/50... Step: 650... Loss: 2.1502... Val Loss: 2.1047\n",
            "Epoch: 6/50... Step: 700... Loss: 2.1089... Val Loss: 2.0705\n",
            "Epoch: 6/50... Step: 750... Loss: 2.0604... Val Loss: 2.0390\n",
            "Epoch: 6/50... Step: 800... Loss: 2.0508... Val Loss: 2.0087\n",
            "Epoch: 7/50... Step: 850... Loss: 2.0381... Val Loss: 1.9770\n",
            "Epoch: 7/50... Step: 900... Loss: 1.9846... Val Loss: 1.9499\n",
            "Epoch: 7/50... Step: 950... Loss: 1.9892... Val Loss: 1.9263\n",
            "Epoch: 8/50... Step: 1000... Loss: 1.9627... Val Loss: 1.9003\n",
            "Epoch: 8/50... Step: 1050... Loss: 1.9593... Val Loss: 1.8786\n",
            "Epoch: 8/50... Step: 1100... Loss: 1.9133... Val Loss: 1.8596\n",
            "Epoch: 9/50... Step: 1150... Loss: 1.9359... Val Loss: 1.8382\n",
            "Epoch: 9/50... Step: 1200... Loss: 1.8653... Val Loss: 1.8192\n",
            "Epoch: 9/50... Step: 1250... Loss: 1.8543... Val Loss: 1.8019\n",
            "Epoch: 10/50... Step: 1300... Loss: 1.8392... Val Loss: 1.7850\n",
            "Epoch: 10/50... Step: 1350... Loss: 1.8131... Val Loss: 1.7630\n",
            "Epoch: 11/50... Step: 1400... Loss: 1.8317... Val Loss: 1.7448\n",
            "Epoch: 11/50... Step: 1450... Loss: 1.7697... Val Loss: 1.7322\n",
            "Epoch: 11/50... Step: 1500... Loss: 1.7627... Val Loss: 1.7231\n",
            "Epoch: 12/50... Step: 1550... Loss: 1.8057... Val Loss: 1.7037\n",
            "Epoch: 12/50... Step: 1600... Loss: 1.7541... Val Loss: 1.6921\n",
            "Epoch: 12/50... Step: 1650... Loss: 1.7005... Val Loss: 1.6789\n",
            "Epoch: 13/50... Step: 1700... Loss: 1.7220... Val Loss: 1.6657\n",
            "Epoch: 13/50... Step: 1750... Loss: 1.6820... Val Loss: 1.6523\n",
            "Epoch: 13/50... Step: 1800... Loss: 1.6977... Val Loss: 1.6443\n",
            "Epoch: 14/50... Step: 1850... Loss: 1.6397... Val Loss: 1.6321\n",
            "Epoch: 14/50... Step: 1900... Loss: 1.6846... Val Loss: 1.6190\n",
            "Epoch: 15/50... Step: 1950... Loss: 1.6705... Val Loss: 1.6104\n",
            "Epoch: 15/50... Step: 2000... Loss: 1.6384... Val Loss: 1.6001\n",
            "Epoch: 15/50... Step: 2050... Loss: 1.6278... Val Loss: 1.5911\n",
            "Epoch: 16/50... Step: 2100... Loss: 1.6276... Val Loss: 1.5845\n",
            "Epoch: 16/50... Step: 2150... Loss: 1.6369... Val Loss: 1.5717\n",
            "Epoch: 16/50... Step: 2200... Loss: 1.6226... Val Loss: 1.5682\n",
            "Epoch: 17/50... Step: 2250... Loss: 1.5837... Val Loss: 1.5567\n",
            "Epoch: 17/50... Step: 2300... Loss: 1.5675... Val Loss: 1.5494\n",
            "Epoch: 17/50... Step: 2350... Loss: 1.6019... Val Loss: 1.5408\n",
            "Epoch: 18/50... Step: 2400... Loss: 1.6178... Val Loss: 1.5336\n",
            "Epoch: 18/50... Step: 2450... Loss: 1.5789... Val Loss: 1.5290\n",
            "Epoch: 18/50... Step: 2500... Loss: 1.5636... Val Loss: 1.5261\n",
            "Epoch: 19/50... Step: 2550... Loss: 1.5395... Val Loss: 1.5153\n",
            "Epoch: 19/50... Step: 2600... Loss: 1.5458... Val Loss: 1.5090\n",
            "Epoch: 20/50... Step: 2650... Loss: 1.5610... Val Loss: 1.5074\n",
            "Epoch: 20/50... Step: 2700... Loss: 1.5556... Val Loss: 1.4978\n",
            "Epoch: 20/50... Step: 2750... Loss: 1.5250... Val Loss: 1.4953\n",
            "Epoch: 21/50... Step: 2800... Loss: 1.5765... Val Loss: 1.4878\n",
            "Epoch: 21/50... Step: 2850... Loss: 1.5118... Val Loss: 1.4826\n",
            "Epoch: 21/50... Step: 2900... Loss: 1.4900... Val Loss: 1.4797\n",
            "Epoch: 22/50... Step: 2950... Loss: 1.5489... Val Loss: 1.4722\n",
            "Epoch: 22/50... Step: 3000... Loss: 1.5048... Val Loss: 1.4709\n",
            "Epoch: 22/50... Step: 3050... Loss: 1.5256... Val Loss: 1.4651\n",
            "Epoch: 23/50... Step: 3100... Loss: 1.4632... Val Loss: 1.4606\n",
            "Epoch: 23/50... Step: 3150... Loss: 1.4896... Val Loss: 1.4592\n",
            "Epoch: 24/50... Step: 3200... Loss: 1.4993... Val Loss: 1.4543\n",
            "Epoch: 24/50... Step: 3250... Loss: 1.5031... Val Loss: 1.4513\n",
            "Epoch: 24/50... Step: 3300... Loss: 1.5000... Val Loss: 1.4508\n",
            "Epoch: 25/50... Step: 3350... Loss: 1.4702... Val Loss: 1.4479\n",
            "Epoch: 25/50... Step: 3400... Loss: 1.4609... Val Loss: 1.4413\n",
            "Epoch: 25/50... Step: 3450... Loss: 1.4692... Val Loss: 1.4398\n",
            "Epoch: 26/50... Step: 3500... Loss: 1.4540... Val Loss: 1.4335\n",
            "Epoch: 26/50... Step: 3550... Loss: 1.4570... Val Loss: 1.4319\n",
            "Epoch: 26/50... Step: 3600... Loss: 1.4069... Val Loss: 1.4248\n",
            "Epoch: 27/50... Step: 3650... Loss: 1.4436... Val Loss: 1.4246\n",
            "Epoch: 27/50... Step: 3700... Loss: 1.4322... Val Loss: 1.4238\n",
            "Epoch: 27/50... Step: 3750... Loss: 1.4621... Val Loss: 1.4200\n",
            "Epoch: 28/50... Step: 3800... Loss: 1.4414... Val Loss: 1.4204\n",
            "Epoch: 28/50... Step: 3850... Loss: 1.4472... Val Loss: 1.4138\n",
            "Epoch: 29/50... Step: 3900... Loss: 1.4380... Val Loss: 1.4127\n",
            "Epoch: 29/50... Step: 3950... Loss: 1.4357... Val Loss: 1.4094\n",
            "Epoch: 29/50... Step: 4000... Loss: 1.4190... Val Loss: 1.4081\n",
            "Epoch: 30/50... Step: 4050... Loss: 1.4322... Val Loss: 1.4074\n",
            "Epoch: 30/50... Step: 4100... Loss: 1.4011... Val Loss: 1.4035\n",
            "Epoch: 30/50... Step: 4150... Loss: 1.3936... Val Loss: 1.4023\n",
            "Epoch: 31/50... Step: 4200... Loss: 1.4499... Val Loss: 1.3946\n",
            "Epoch: 31/50... Step: 4250... Loss: 1.3952... Val Loss: 1.4000\n",
            "Epoch: 31/50... Step: 4300... Loss: 1.4184... Val Loss: 1.3951\n",
            "Epoch: 32/50... Step: 4350... Loss: 1.3958... Val Loss: 1.3957\n",
            "Epoch: 32/50... Step: 4400... Loss: 1.3883... Val Loss: 1.3892\n",
            "Epoch: 33/50... Step: 4450... Loss: 1.4055... Val Loss: 1.3905\n",
            "Epoch: 33/50... Step: 4500... Loss: 1.3824... Val Loss: 1.3930\n",
            "Epoch: 33/50... Step: 4550... Loss: 1.4051... Val Loss: 1.3815\n",
            "Epoch: 34/50... Step: 4600... Loss: 1.3986... Val Loss: 1.3810\n",
            "Epoch: 34/50... Step: 4650... Loss: 1.4034... Val Loss: 1.3827\n",
            "Epoch: 34/50... Step: 4700... Loss: 1.3886... Val Loss: 1.3838\n",
            "Epoch: 35/50... Step: 4750... Loss: 1.3860... Val Loss: 1.3763\n",
            "Epoch: 35/50... Step: 4800... Loss: 1.4031... Val Loss: 1.3767\n",
            "Epoch: 35/50... Step: 4850... Loss: 1.3886... Val Loss: 1.3749\n",
            "Epoch: 36/50... Step: 4900... Loss: 1.3805... Val Loss: 1.3760\n",
            "Epoch: 36/50... Step: 4950... Loss: 1.3705... Val Loss: 1.3740\n",
            "Epoch: 36/50... Step: 5000... Loss: 1.3877... Val Loss: 1.3704\n",
            "Epoch: 37/50... Step: 5050... Loss: 1.3783... Val Loss: 1.3751\n",
            "Epoch: 37/50... Step: 5100... Loss: 1.3639... Val Loss: 1.3699\n",
            "Epoch: 38/50... Step: 5150... Loss: 1.3525... Val Loss: 1.3696\n",
            "Epoch: 38/50... Step: 5200... Loss: 1.3624... Val Loss: 1.3680\n",
            "Epoch: 38/50... Step: 5250... Loss: 1.3707... Val Loss: 1.3695\n",
            "Epoch: 39/50... Step: 5300... Loss: 1.3698... Val Loss: 1.3651\n",
            "Epoch: 39/50... Step: 5350... Loss: 1.3516... Val Loss: 1.3645\n",
            "Epoch: 39/50... Step: 5400... Loss: 1.3429... Val Loss: 1.3596\n",
            "Epoch: 40/50... Step: 5450... Loss: 1.3804... Val Loss: 1.3560\n",
            "Epoch: 40/50... Step: 5500... Loss: 1.3483... Val Loss: 1.3583\n",
            "Epoch: 40/50... Step: 5550... Loss: 1.3739... Val Loss: 1.3599\n",
            "Epoch: 41/50... Step: 5600... Loss: 1.3646... Val Loss: 1.3579\n",
            "Epoch: 41/50... Step: 5650... Loss: 1.3576... Val Loss: 1.3526\n",
            "Epoch: 42/50... Step: 5700... Loss: 1.4140... Val Loss: 1.3554\n",
            "Epoch: 42/50... Step: 5750... Loss: 1.3165... Val Loss: 1.3581\n",
            "Epoch: 42/50... Step: 5800... Loss: 1.3566... Val Loss: 1.3528\n",
            "Epoch: 43/50... Step: 5850... Loss: 1.3575... Val Loss: 1.3542\n",
            "Epoch: 43/50... Step: 5900... Loss: 1.3682... Val Loss: 1.3547\n",
            "Epoch: 43/50... Step: 5950... Loss: 1.3280... Val Loss: 1.3520\n",
            "Epoch: 44/50... Step: 6000... Loss: 1.3575... Val Loss: 1.3493\n",
            "Epoch: 44/50... Step: 6050... Loss: 1.3410... Val Loss: 1.3510\n",
            "Epoch: 44/50... Step: 6100... Loss: 1.2998... Val Loss: 1.3475\n",
            "Epoch: 45/50... Step: 6150... Loss: 1.3297... Val Loss: 1.3480\n",
            "Epoch: 45/50... Step: 6200... Loss: 1.3189... Val Loss: 1.3490\n",
            "Epoch: 45/50... Step: 6250... Loss: 1.3384... Val Loss: 1.3429\n",
            "Epoch: 46/50... Step: 6300... Loss: 1.3205... Val Loss: 1.3438\n",
            "Epoch: 46/50... Step: 6350... Loss: 1.3259... Val Loss: 1.3407\n",
            "Epoch: 47/50... Step: 6400... Loss: 1.3066... Val Loss: 1.3395\n",
            "Epoch: 47/50... Step: 6450... Loss: 1.3395... Val Loss: 1.3440\n",
            "Epoch: 47/50... Step: 6500... Loss: 1.3172... Val Loss: 1.3419\n",
            "Epoch: 48/50... Step: 6550... Loss: 1.3185... Val Loss: 1.3362\n",
            "Epoch: 48/50... Step: 6600... Loss: 1.3379... Val Loss: 1.3444\n",
            "Epoch: 48/50... Step: 6650... Loss: 1.3143... Val Loss: 1.3407\n",
            "Epoch: 49/50... Step: 6700... Loss: 1.3389... Val Loss: 1.3370\n",
            "Epoch: 49/50... Step: 6750... Loss: 1.3424... Val Loss: 1.3365\n",
            "Epoch: 49/50... Step: 6800... Loss: 1.3086... Val Loss: 1.3288\n",
            "Epoch: 50/50... Step: 6850... Loss: 1.3235... Val Loss: 1.3358\n",
            "Epoch: 50/50... Step: 6900... Loss: 1.2998... Val Loss: 1.3391\n",
            "Epoch: 50/50... Step: 6950... Loss: 1.3569... Val Loss: 1.3339\n"
          ],
          "name": "stdout"
        }
      ]
    },
    {
      "cell_type": "markdown",
      "metadata": {
        "id": "PhpNCCggyyUi",
        "colab_type": "text"
      },
      "source": [
        "## Getting the best model\n",
        "\n",
        "To set your hyperparameters to get the best performance, you'll want to watch the training and validation losses. If your training loss is much lower than the validation loss, you're overfitting. Increase regularization (more dropout) or use a smaller network. If the training and validation losses are close, you're underfitting so you can increase the size of the network."
      ]
    },
    {
      "cell_type": "markdown",
      "metadata": {
        "id": "MrsNC7N0Rl9R",
        "colab_type": "text"
      },
      "source": [
        "## Hyperparameters\n",
        "\n",
        "Here are the hyperparameters for the network.\n",
        "\n",
        "In defining the model:\n",
        "* `n_hidden` - The number of units in the hidden layers.\n",
        "* `n_layers` - Number of hidden LSTM layers to use.\n",
        "\n",
        "We assume that dropout probability and learning rate will be kept at the default, in this example.\n",
        "\n",
        "And in training:\n",
        "* `batch_size` - Number of sequences running through the network in one pass.\n",
        "* `seq_length` - Number of characters in the sequence the network is trained on. Larger is better typically, the network will learn more long range dependencies. But it takes longer to train. 100 is typically a good number here.\n",
        "* `lr` - Learning rate for training\n",
        "\n",
        "Here's some good advice from Andrej Karpathy on training the network. I'm going to copy it in here for your benefit, but also link to [where it originally came from](https://github.com/karpathy/char-rnn#tips-and-tricks).\n",
        "\n",
        "> ## Tips and Tricks\n",
        "\n",
        ">### Monitoring Validation Loss vs. Training Loss\n",
        ">If you're somewhat new to Machine Learning or Neural Networks it can take a bit of expertise to get good models. The most important quantity to keep track of is the difference between your training loss (printed during training) and the validation loss (printed once in a while when the RNN is run on the validation data (by default every 1000 iterations)). In particular:\n",
        "\n",
        "> - If your training loss is much lower than validation loss then this means the network might be **overfitting**. Solutions to this are to decrease your network size, or to increase dropout. For example you could try dropout of 0.5 and so on.\n",
        "> - If your training/validation loss are about equal then your model is **underfitting**. Increase the size of your model (either number of layers or the raw number of neurons per layer)\n",
        "\n",
        "> ### Approximate number of parameters\n",
        "\n",
        "> The two most important parameters that control the model are `n_hidden` and `n_layers`. I would advise that you always use `n_layers` of either 2/3. The `n_hidden` can be adjusted based on how much data you have. The two important quantities to keep track of here are:\n",
        "\n",
        "> - The number of parameters in your model. This is printed when you start training.\n",
        "> - The size of your dataset. 1MB file is approximately 1 million characters.\n",
        "\n",
        ">These two should be about the same order of magnitude. It's a little tricky to tell. Here are some examples:\n",
        "\n",
        "> - I have a 100MB dataset and I'm using the default parameter settings (which currently print 150K parameters). My data size is significantly larger (100 mil >> 0.15 mil), so I expect to heavily underfit. I am thinking I can comfortably afford to make `n_hidden` larger.\n",
        "> - I have a 10MB dataset and running a 10 million parameter model. I'm slightly nervous and I'm carefully monitoring my validation loss. If it's larger than my training loss then I may want to try to increase dropout a bit and see if that helps the validation loss.\n",
        "\n",
        "> ### Best models strategy\n",
        "\n",
        ">The winning strategy to obtaining very good models (if you have the compute time) is to always err on making the network larger (as large as you're willing to wait for it to compute) and then try different dropout values (between 0,1). Whatever model has the best validation performance (the loss, written in the checkpoint filename, low is good) is the one you should use in the end.\n",
        "\n",
        ">It is very common in deep learning to run many different models with many different hyperparameter settings, and in the end take whatever checkpoint gave the best validation performance.\n",
        "\n",
        ">By the way, the size of your training and validation splits are also parameters. Make sure you have a decent amount of data in your validation set or otherwise the validation performance will be noisy and not very informative."
      ]
    },
    {
      "cell_type": "markdown",
      "metadata": {
        "id": "AWcD-b5sT659",
        "colab_type": "text"
      },
      "source": [
        "## Checkpoint\n",
        "\n",
        "After training, we'll save the model so we can load it again later if we need too. Here I'm saving the parameters needed to create the same architecture, the hidden layer hyperparameters and the text characters."
      ]
    },
    {
      "cell_type": "code",
      "metadata": {
        "id": "Oe8AcnGRUC0-",
        "colab_type": "code",
        "colab": {}
      },
      "source": [
        "# change the name, for saving multiple files\n",
        "model_name = 'rnn_x_epoch.net'\n",
        "\n",
        "checkpoint = {'n_hidden': rnn.n_hidden,\n",
        "              'n_layers': rnn.n_layers,\n",
        "              'state_dict': rnn.state_dict(),\n",
        "              'tokens': rnn.chars}\n",
        "\n",
        "with open(model_name, 'wb') as f:\n",
        "    torch.save(checkpoint, f)"
      ],
      "execution_count": 0,
      "outputs": []
    },
    {
      "cell_type": "markdown",
      "metadata": {
        "id": "jE8eAvTQWGaa",
        "colab_type": "text"
      },
      "source": [
        "---\n",
        "## Making Predictions\n",
        "\n",
        "Now that the model is trained, we'll want to sample from it and make predictions about next characters! To sample, we pass in a character and have the network predict the next character. Then we take that character, pass it back in, and get another predicted character. Just keep doing this and you'll generate a bunch of text!\n",
        "\n",
        "### A note on the `predict`  function\n",
        "\n",
        "The output of our RNN is from a fully-connected layer and it outputs a **distribution of next-character scores**.\n",
        "\n",
        "> To actually get the next character, we apply a softmax function, which gives us a *probability* distribution that we can then sample to predict the next character.\n",
        "\n",
        "### Top K sampling\n",
        "\n",
        "Our predictions come from a categorical probability distribution over all the possible characters. We can make the sample text and make it more reasonable to handle (with less variables) by only considering some $K$ most probable characters. This will prevent the network from giving us completely absurd characters while allowing it to introduce some noise and randomness into the sampled text. Read more about [topk, here](https://pytorch.org/docs/stable/torch.html#torch.topk)."
      ]
    },
    {
      "cell_type": "code",
      "metadata": {
        "id": "XM7a0AABWYN_",
        "colab_type": "code",
        "colab": {}
      },
      "source": [
        "def predict(net, char, h=None, top_k=None):\n",
        "        ''' Given a character, predict the next character.\n",
        "            Returns the predicted character and the hidden state.\n",
        "        '''\n",
        "        \n",
        "        # tensor inputs\n",
        "        x = np.array([[net.char2int[char]]])\n",
        "        x = one_hot_encode(x, len(net.chars))\n",
        "        inputs = torch.from_numpy(x)\n",
        "        \n",
        "        if(train_on_gpu):\n",
        "            inputs = inputs.cuda()\n",
        "        \n",
        "        # detach hidden state from history\n",
        "        h = tuple([each.data for each in h])\n",
        "        # get the output of the model\n",
        "        out, h = net(inputs, h)\n",
        "\n",
        "        # get the character probabilities\n",
        "        p = F.softmax(out, dim=1).data\n",
        "        if(train_on_gpu):\n",
        "            p = p.cpu() # move to cpu\n",
        "        \n",
        "        # get top characters\n",
        "        if top_k is None:\n",
        "            top_ch = np.arange(len(net.chars))\n",
        "        else:\n",
        "            p, top_ch = p.topk(top_k)\n",
        "            top_ch = top_ch.numpy().squeeze()\n",
        "        \n",
        "        # select the likely next character with some element of randomness\n",
        "        p = p.numpy().squeeze()\n",
        "        char = np.random.choice(top_ch, p=p/p.sum())\n",
        "        \n",
        "        # return the encoded value of the predicted char and the hidden state\n",
        "        return net.int2char[char], h"
      ],
      "execution_count": 0,
      "outputs": []
    },
    {
      "cell_type": "markdown",
      "metadata": {
        "id": "vFLJXGpVWd_o",
        "colab_type": "text"
      },
      "source": [
        "### Priming and generating text \n",
        "\n",
        "Typically you'll want to prime the network so you can build up a hidden state. Otherwise the network will start out generating characters at random. In general the first bunch of characters will be a little rough since it hasn't built up a long history of characters to predict from."
      ]
    },
    {
      "cell_type": "code",
      "metadata": {
        "id": "hNUWt86IWnyy",
        "colab_type": "code",
        "colab": {}
      },
      "source": [
        "def sample(net, size, prime='The', top_k=None):\n",
        "        \n",
        "    if(train_on_gpu):\n",
        "        net.cuda()\n",
        "    else:\n",
        "        net.cpu()\n",
        "    \n",
        "    net.eval() # eval mode\n",
        "    \n",
        "    # First off, run through the prime characters\n",
        "    chars = [ch for ch in prime]\n",
        "    h = net.init_hidden(1)\n",
        "    for ch in prime:\n",
        "        char, h = predict(net, ch, h, top_k=top_k)\n",
        "\n",
        "    chars.append(char)\n",
        "    \n",
        "    # Now pass in the previous character and get a new one\n",
        "    for ii in range(size):\n",
        "        char, h = predict(net, chars[-1], h, top_k=top_k)\n",
        "        chars.append(char)\n",
        "\n",
        "    return ''.join(chars)"
      ],
      "execution_count": 0,
      "outputs": []
    },
    {
      "cell_type": "code",
      "metadata": {
        "id": "nB6I7yTDWsuz",
        "colab_type": "code",
        "colab": {
          "base_uri": "https://localhost:8080/",
          "height": 341
        },
        "outputId": "b918fbf1-2c40-4b02-bc76-acad11f47c4e"
      },
      "source": [
        "print(sample(rnn, 1000, prime=\"Anna\", top_k=5))"
      ],
      "execution_count": 39,
      "outputs": [
        {
          "output_type": "stream",
          "text": [
            "Anna Alexandrovitch, so was at the conversation\n",
            "alone, to her that there were said that the chief sense there was a love to him. Anna would\n",
            "not see the\n",
            "docker who wished her, had answered to hurrout. And the\n",
            "peasants she saw there sides and standing\n",
            "to the country.\n",
            "He would have all all out of the friends, thinking of\n",
            "the contrart and\n",
            "work of her husband.\n",
            "\n",
            "\"When it was so the considered time will tigh, this sensite the straight of the carriage and a samilise with his fruends, I have no marshal\n",
            "would she work.\n",
            "Why's anyone she doesn't believe,\" he said, and his strong\n",
            "of the persousen time was being heart. Alexey Alexandrovitch she consequently as she\n",
            "with her head, when he saw that the teate at his blush. A clearly with a tried. He\n",
            "heard the mushroom, and as it was a speal of a mones of this strengs, was still holding them with her and another, and she could not have asked hearily as he had been\n",
            "bather in haste and sat fact at homon. The sight\n",
            "of the mirth the sincere wished in her and the \n"
          ],
          "name": "stdout"
        }
      ]
    },
    {
      "cell_type": "markdown",
      "metadata": {
        "id": "H5TkMHHrW2Ms",
        "colab_type": "text"
      },
      "source": [
        "## Loading a checkpoint"
      ]
    },
    {
      "cell_type": "code",
      "metadata": {
        "id": "zI-_sTf0XhzW",
        "colab_type": "code",
        "colab": {
          "base_uri": "https://localhost:8080/",
          "height": 35
        },
        "outputId": "e7198b2a-9bd2-4346-8ff1-6836043bece1"
      },
      "source": [
        "# Here we have loaded in a model that trained over 20 epochs `rnn_20_epoch.net`\n",
        "with open('rnn_x_epoch.net', 'rb') as f:\n",
        "    checkpoint = torch.load(f)\n",
        "    \n",
        "loaded = CharRNN(checkpoint['tokens'], n_hidden=checkpoint['n_hidden'], n_layers=checkpoint['n_layers'])\n",
        "loaded.load_state_dict(checkpoint['state_dict'])"
      ],
      "execution_count": 40,
      "outputs": [
        {
          "output_type": "execute_result",
          "data": {
            "text/plain": [
              "<All keys matched successfully>"
            ]
          },
          "metadata": {
            "tags": []
          },
          "execution_count": 40
        }
      ]
    },
    {
      "cell_type": "code",
      "metadata": {
        "id": "T-Du8oLPXmfq",
        "colab_type": "code",
        "colab": {
          "base_uri": "https://localhost:8080/",
          "height": 847
        },
        "outputId": "bc81a9b8-cd15-43a0-b8cd-63e44c7ed4ac"
      },
      "source": [
        "# Sample using a loaded model\n",
        "print(sample(loaded, 2000, top_k=5, prime=\"And Levin said\"))"
      ],
      "execution_count": 41,
      "outputs": [
        {
          "output_type": "stream",
          "text": [
            "And Levin said\n",
            "that he said, and\n",
            "with the point. And who did not\n",
            "to that\n",
            "would have to see to see to a simple, and, taking the colan tone the sort\n",
            "that to be some weak at health was\n",
            "their husband, well she did not say. He was sating to the same, he was as assuping all the meeting so might, they always still, and was\n",
            "the porter.\n",
            "\n",
            "\"Why dinn't be a learned,\" she said on his beausy that so as some other white shoulders of her hand with a smile with his brights of a still sening and hands of angiligette, the chear of sort of\n",
            "alraid, she\n",
            "had asked the paind of his brother of the completel thoughts he would have stoll when they her face, the soliture.\n",
            "\n",
            "Thrithing at the princess and all thought of his\n",
            "head, as he\n",
            "day to shake\n",
            "her house and sat\n",
            "she wished to the cares,\n",
            "he had at his feet that he would bring the mire of her heart,\n",
            "a prince. \"Yes, I see that the same,\" he went up here of his brother to his\n",
            "head at our table, and to tell you he did not consider him by home. At the cold they had begun him. She was as had\n",
            "all that he with a sported. Af his hand was that this could not gat her to say, to his,\n",
            "that he had\n",
            "to to still the simplere shoot had not come to\n",
            "the sagies of a steps in the seemed\n",
            "that he was natural as he said in her forest tree.\n",
            "\n",
            "She could not be\n",
            "settled to\n",
            "him to all\n",
            "the same of a fect to a carriale,\n",
            "and to the mastance. Stepan Arkadyevitch was never something begon his brother, to his horse. The mistake went a conversation, and with his head. The poatess of his sinsistic it too, and\n",
            "said\n",
            "as it was not at that she sat such to her, as he went,\n",
            "any all all the sort of too how was the sole time of the cried, but the\n",
            "classion in his\n",
            "head of the fact, she went up, the fresh and almost smile.\n",
            "\n",
            "\"It's all the pretty of the same always\n",
            "all the time to be to tee horrible and mearing to\n",
            "his fingers, but a secide of his wife, but a callable all all-the houres, but to moth of him.\"\n",
            "\n",
            "She strained that the side and a same only\n",
            "of anyone son of a sound was\n",
            "strating her husband, and to b\n"
          ],
          "name": "stdout"
        }
      ]
    },
    {
      "cell_type": "code",
      "metadata": {
        "id": "hy7TA4anXpVp",
        "colab_type": "code",
        "colab": {}
      },
      "source": [
        ""
      ],
      "execution_count": 0,
      "outputs": []
    }
  ]
}